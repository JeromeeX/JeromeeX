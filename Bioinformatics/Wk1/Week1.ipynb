{
 "cells": [
  {
   "cell_type": "code",
   "execution_count": 23,
   "metadata": {},
   "outputs": [
    {
     "data": {
      "text/plain": [
       "6"
      ]
     },
     "execution_count": 23,
     "metadata": {},
     "output_type": "execute_result"
    }
   ],
   "source": [
    "def PatternCount(Text, Pattern):\n",
    "    count = 0\n",
    "    for i in range(len(Text)-len(Pattern)+1):\n",
    "        if Text[i:i+len(Pattern)] == Pattern:\n",
    "            count = count+1\n",
    "    return count\n",
    "\n",
    "PatternCount(\"gaccatcaaaactgataaactacttaaaaatcagt\", \"aaa\")"
   ]
  },
  {
   "cell_type": "code",
   "execution_count": 24,
   "metadata": {},
   "outputs": [
    {
     "data": {
      "text/plain": [
       "['agg']"
      ]
     },
     "execution_count": 24,
     "metadata": {},
     "output_type": "execute_result"
    }
   ],
   "source": [
    "# Finding the most frequent k-mer in a sequence, O(len(Text)^2*k)\n",
    "def FrequentWords(Text, k):\n",
    "    FrequentPatterns = []\n",
    "    Count = []\n",
    "    # Store the largest count for all k-mers\n",
    "    for i in range(0, len(Text)-k+1):\n",
    "        Pattern = Text[i:i+k]\n",
    "        Count.append(PatternCount(Text, Pattern))\n",
    "    maxCount = max(Count)\n",
    "    # Find the most common k-mer in comparison with maxCount\n",
    "    for i in range(0, len(Text)-k+1):\n",
    "        if PatternCount(Text, Text[i:i+k]) == maxCount:\n",
    "            FrequentPatterns.append(Text[i:i+k])\n",
    "    # Remove the redundant results\n",
    "    set_FrequentPatterns = set(FrequentPatterns)\n",
    "    FrequentPatterns = list(set_FrequentPatterns)\n",
    "\n",
    "    return FrequentPatterns\n",
    "\n",
    "FrequentWords(\"cggaggactctaggtaacgcttatcaggtccataggacattca\", 3)"
   ]
  },
  {
   "cell_type": "code",
   "execution_count": 3,
   "metadata": {},
   "outputs": [],
   "source": [
    "def FrequencyTable(Text, k):\n",
    "    freqMap = {}\n",
    "    len_Text = len(Text)\n",
    "    for i in range(0, len_Text+1):\n",
    "        Pattern = Text[i:i+k]\n",
    "        if Pattern not in freqMap:\n",
    "            freqMap[Pattern] = 1\n",
    "        else:\n",
    "            freqMap[Pattern] += 1\n",
    "    return freqMap"
   ]
  },
  {
   "cell_type": "code",
   "execution_count": 25,
   "metadata": {},
   "outputs": [
    {
     "data": {
      "text/plain": [
       "['agg']"
      ]
     },
     "execution_count": 25,
     "metadata": {},
     "output_type": "execute_result"
    }
   ],
   "source": [
    "def BetterFrequentWords(Text, k):\n",
    "    FrequentPatterns = []\n",
    "    freqMap = FrequencyTable(Text, k)\n",
    "    maximum = max(freqMap.values())\n",
    "    for Pattern in freqMap:\n",
    "        if freqMap[Pattern] == maximum:\n",
    "            FrequentPatterns.append(Pattern)\n",
    "    \n",
    "    return FrequentPatterns\n",
    "\n",
    "BetterFrequentWords(\"cggaggactctaggtaacgcttatcaggtccataggacattca\", 3)"
   ]
  },
  {
   "cell_type": "code",
   "execution_count": 26,
   "metadata": {},
   "outputs": [
    {
     "data": {
      "text/plain": [
       "'AGCTAGC'"
      ]
     },
     "execution_count": 26,
     "metadata": {},
     "output_type": "execute_result"
    }
   ],
   "source": [
    "def ReverseComplement(Pattern):\n",
    "    Pattern = Pattern[::-1]\n",
    "    Pattern_list = list(Pattern)\n",
    "    for i in range(0, len(Pattern)):\n",
    "        if Pattern_list[i] == \"A\":\n",
    "            Pattern_list[i] = \"T\"\n",
    "        elif Pattern_list[i] == \"T\":\n",
    "            Pattern_list[i] = \"A\"\n",
    "        elif Pattern_list[i] == \"C\":\n",
    "            Pattern_list[i] = \"G\"\n",
    "        elif Pattern_list[i] == \"G\":\n",
    "            Pattern_list[i] = \"C\"\n",
    "    result = \"\"\n",
    "    for i in Pattern_list:\n",
    "        result += i\n",
    "    return result\n",
    "\n",
    "ReverseComplement(\"GCTAGCT\")"
   ]
  },
  {
   "cell_type": "code",
   "execution_count": 31,
   "metadata": {},
   "outputs": [
    {
     "name": "stdout",
     "output_type": "stream",
     "text": [
      "0 1 12 "
     ]
    }
   ],
   "source": [
    "def PatternMatch(Pattern, Text):\n",
    "    positions = []\n",
    "    for i in range(0, len(Text)-len(Pattern)+1):\n",
    "        if Text[i:i+len(Pattern)] == Pattern:\n",
    "            positions.append(i)\n",
    "    for i in positions:\n",
    "        print(i, end = \" \")\n",
    "\n",
    "PatternMatch(\"aa\", \"aaacataggatcaac\")\n",
    "# Genome = open(\"Vibrio_cholerae.txt\", \"r\").read()\n",
    "# PatternMatch(\"CTTGATCAT\", Genome)"
   ]
  },
  {
   "cell_type": "code",
   "execution_count": 21,
   "metadata": {},
   "outputs": [
    {
     "data": {
      "text/plain": [
       "1904"
      ]
     },
     "execution_count": 21,
     "metadata": {},
     "output_type": "execute_result"
    }
   ],
   "source": [
    "def FindClumps(Text, k, L, t):\n",
    "    Pattern = []\n",
    "    for i in range(0, len(Text)-L+1):\n",
    "        window = Text[i: i+L]\n",
    "        freqMap = FrequencyTable(window, k)\n",
    "        for i in freqMap:\n",
    "            if freqMap[i] >= t:\n",
    "                Pattern.append(i)\n",
    "    Pattern = list(set(Pattern))\n",
    "    # for i in Pattern:\n",
    "        # print(i, end=\" \")\n",
    "    return len(Pattern)\n",
    "\n",
    "Genome = open(\"E_coli.txt\", \"r\").read()\n",
    "FindClumps(Genome, 9, 500, 3)"
   ]
  }
 ],
 "metadata": {
  "kernelspec": {
   "display_name": "Python 3",
   "language": "python",
   "name": "python3"
  },
  "language_info": {
   "codemirror_mode": {
    "name": "ipython",
    "version": 3
   },
   "file_extension": ".py",
   "mimetype": "text/x-python",
   "name": "python",
   "nbconvert_exporter": "python",
   "pygments_lexer": "ipython3",
   "version": "3.9.6"
  },
  "orig_nbformat": 4
 },
 "nbformat": 4,
 "nbformat_minor": 2
}
