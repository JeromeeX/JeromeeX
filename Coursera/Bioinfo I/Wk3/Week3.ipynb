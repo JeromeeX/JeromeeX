{
 "cells": [
  {
   "cell_type": "code",
   "execution_count": 2,
   "metadata": {},
   "outputs": [],
   "source": [
    "# Prerequisites\n",
    "import numpy as np\n",
    "\n",
    "def hammingdistance(seq1, seq2):\n",
    "    seq1 = list(seq1)\n",
    "    seq2 = list(seq2)\n",
    "    hmgdist = 0\n",
    "    for i in range(len(seq1)):\n",
    "        if seq1[i] != seq2[i]:\n",
    "            hmgdist += 1\n",
    "    return hmgdist\n",
    "\n",
    "def Suffix(Pattern):\n",
    "    Pattern = list(Pattern)\n",
    "    Pattern.pop(0)\n",
    "    return \"\".join(Pattern)\n",
    "\n",
    "def Neighbors(Pattern, d):\n",
    "    Nucleotides = [\"A\", \"C\", \"T\", \"G\"]\n",
    "    if d == 0:\n",
    "        return Pattern\n",
    "    if len(Pattern) == 1:\n",
    "        return Nucleotides\n",
    "    \n",
    "    Neighborhood = []\n",
    "    SuffixNeighbors = Neighbors(Suffix(Pattern), d)\n",
    "    for i in SuffixNeighbors:\n",
    "        if hammingdistance(Suffix(Pattern), i) < d:\n",
    "            for nt in Nucleotides:\n",
    "                Neighborhood.append(nt + i)\n",
    "        else:\n",
    "            PatternList = list(Pattern)\n",
    "            Neighborhood.append(PatternList[0] + i)\n",
    "    \n",
    "    return Neighborhood\n",
    "\n",
    "def ReverseComplement(Pattern):\n",
    "    Pattern = Pattern[::-1]\n",
    "    Pattern_list = list(Pattern)\n",
    "    for i in range(0, len(Pattern)):\n",
    "        if Pattern_list[i] == \"A\":\n",
    "            Pattern_list[i] = \"T\"\n",
    "        elif Pattern_list[i] == \"T\":\n",
    "            Pattern_list[i] = \"A\"\n",
    "        elif Pattern_list[i] == \"C\":\n",
    "            Pattern_list[i] = \"G\"\n",
    "        elif Pattern_list[i] == \"G\":\n",
    "            Pattern_list[i] = \"C\"\n",
    "    result = \"\"\n",
    "    for i in Pattern_list:\n",
    "        result += i\n",
    "    return result\n",
    "\n",
    "def minHamDist(pattern1, pattern2):\n",
    "    # Pattern1 should be shorter than pattern2\n",
    "    if len(pattern1) > len(pattern2):\n",
    "        pattern1, pattern2 = pattern2, pattern1\n",
    "    len1 = len(pattern1)\n",
    "    len2 = len(pattern2)\n",
    "    minDist = len(pattern1)\n",
    "\n",
    "    for i in range(0, len2-len1+1):\n",
    "        kmer = pattern2[i:i+len1]\n",
    "        if hammingdistance(pattern1, kmer) < minDist:\n",
    "            minDist = hammingdistance(pattern1, kmer)\n",
    "    \n",
    "    return minDist"
   ]
  },
  {
   "cell_type": "code",
   "execution_count": 3,
   "metadata": {},
   "outputs": [],
   "source": [
    "# (k, d)-motif: a k-mer if it appears in every string from Dna with at most d mismatches\n",
    "# Brute force, generating all possible k-mers\n",
    "\n",
    "def MotifEnumeration(Dna, k, d):\n",
    "    Patterns = []\n",
    "    Dna = Dna.split()\n",
    "\n",
    "    line1 = Dna[0]\n",
    "    kmerlist_line1 = []\n",
    "    for i in range(0, len(line1)-k+1):\n",
    "        kmer = line1[i:i+k]\n",
    "        kmerlist_line1.append(kmer)\n",
    "\n",
    "   # Creating a list of all k-mer neighbor differing from Pattern by at most d mismatches \n",
    "    all_neighbors = []\n",
    "    all_neighbors += kmerlist_line1\n",
    "    for kmer in kmerlist_line1:\n",
    "        neighbors = Neighbors(kmer, d)\n",
    "        all_neighbors += neighbors\n",
    "    all_neighbors = list(set(all_neighbors))\n",
    "\n",
    "    # To make sure if there is one hit with maximum hamming distance of d on every single line of genomic DNA\n",
    "    for neighbor in all_neighbors:\n",
    "        criteria = 0\n",
    "        for line in Dna[1:]:\n",
    "            minDist = minHamDist(neighbor, line)\n",
    "            if minDist <= d:\n",
    "                criteria += 1\n",
    "        if criteria == len(Dna[1:]):\n",
    "            Patterns.append(neighbor)\n",
    "\n",
    "    return list(set(Patterns))"
   ]
  },
  {
   "cell_type": "code",
   "execution_count": 4,
   "metadata": {},
   "outputs": [],
   "source": [
    "import math\n",
    "\n",
    "def entropy(seq):\n",
    "    # seq input is a list with all capital sequences\n",
    "    entropy = 0\n",
    "    seqlength = len(seq[0])\n",
    "    seqcount = len(seq)\n",
    "    \n",
    "    for i in range(0, seqlength):\n",
    "        nucleotide_count = {\"A\":0, \"T\":0, \"G\":0, \"C\":0}\n",
    "        for j in seq:\n",
    "            nucleotide = j[i]\n",
    "            nucleotide_count[nucleotide] += 1\n",
    "        \n",
    "        for nt in nucleotide_count:\n",
    "            p_i = nucleotide_count[nt] / seqcount\n",
    "            if p_i != 0:\n",
    "                entropy -= p_i * math.log2(p_i)\n",
    "            else:\n",
    "                entropy += 0\n",
    "    \n",
    "    return entropy"
   ]
  },
  {
   "cell_type": "code",
   "execution_count": 5,
   "metadata": {},
   "outputs": [],
   "source": [
    "def DistanceBetweenPatternAndStrings(Pattern, Dna):\n",
    "    k = len(Pattern)\n",
    "    Dna = Dna.split()\n",
    "    distance = 0\n",
    "    strlength = len(Dna[0])\n",
    "\n",
    "    for str in Dna:\n",
    "        kmerlist = []\n",
    "        hammingdist = strlength\n",
    "        for i in range(0, strlength-k+1):\n",
    "            kmerlist.append(str[i:i+k])\n",
    "        for kmer in kmerlist:\n",
    "            if hammingdistance(Pattern, kmer) < hammingdist:\n",
    "                hammingdist = hammingdistance(Pattern, kmer)\n",
    "        distance += hammingdist\n",
    "    \n",
    "    return distance"
   ]
  },
  {
   "cell_type": "code",
   "execution_count": 6,
   "metadata": {},
   "outputs": [],
   "source": [
    "def AllStrings(k):\n",
    "    klist = []\n",
    "    nucleotides = [\"A\", \"T\", \"G\", \"C\"]\n",
    "\n",
    "    for nt in nucleotides:\n",
    "        if k == 1:\n",
    "            kmer = nt\n",
    "            klist.append(kmer)\n",
    "        else:\n",
    "            for i in AllStrings(k-1):\n",
    "                item = i + nt\n",
    "                klist.append(item)\n",
    "    \n",
    "    return klist"
   ]
  },
  {
   "cell_type": "code",
   "execution_count": 16,
   "metadata": {},
   "outputs": [
    {
     "data": {
      "text/plain": [
       "'GTAGGAA'"
      ]
     },
     "execution_count": 16,
     "metadata": {},
     "output_type": "execute_result"
    }
   ],
   "source": [
    "def MedianString(Dna, k):\n",
    "    Patterns = AllStrings(k)\n",
    "    Median = min(Patterns, key = lambda Pattern: DistanceBetweenPatternAndStrings(Pattern, Dna.upper()))\n",
    "\n",
    "    return Median\n",
    "MedianString(\"ctcgatgagtaggaaagtagtttcactgggcgaaccaccccggcgctaatcctagtgccc gcaatcctacccgaggccacatatcagtaggaactagaaccaccacgggtggctagtttc ggtgttgaaccacggggttagtttcatctattgtaggaatcggcttcaaatcctacacag\", 7)"
   ]
  },
  {
   "cell_type": "code",
   "execution_count": 8,
   "metadata": {},
   "outputs": [],
   "source": [
    "def profile_most_probable(Text, k, prob):\n",
    "    # The input matrix must be a string composed of numbers split by spaces only, e.g., \"0.2 0.2 0.3 0.2 0.3 0.4 0.3 0.1 0.5 0.1 0.3 0.3 0.5 0.2 0.4 ... 0.1 0.2\"\n",
    "    list_prob = [x for x in prob.split()]\n",
    "    list_prob = [list_prob[i:i+k] for i in range(0, len(list_prob), k)]\n",
    "    matrix = {\"A\":list_prob[0], \"C\":list_prob[1], \"G\":list_prob[2], \"T\":list_prob[3]} # Stored in the form of a dict\n",
    "        \n",
    "    list_kmer = [Text[i:i+k] for i in range(0, len(Text)-k+1)]\n",
    "    most_probable = \"\"\n",
    "    max_prob = -99\n",
    "    for kmer in list_kmer:\n",
    "        prob = 1\n",
    "        for i in range(0, k):\n",
    "            nt = kmer[i]\n",
    "            prob_nt = eval(matrix[nt][i])\n",
    "            prob *= prob_nt\n",
    "        if prob > max_prob:\n",
    "            max_prob = prob\n",
    "            most_probable = kmer\n",
    "        \n",
    "    return most_probable\n",
    "\n",
    "# profile_most_probable(\"ACCTGTTTATTGCCTAAGTTCCGAACAAACCCAATATAGCCCGAGGGCCT\", 5, \"0.2 0.2 0.3 0.2 0.3 0.4 0.3 0.1 0.5 0.1 0.3 0.3 0.5 0.2 0.4 0.1 0.2 0.1 0.1 0.2\")"
   ]
  },
  {
   "cell_type": "code",
   "execution_count": 9,
   "metadata": {},
   "outputs": [
    {
     "data": {
      "text/plain": [
       "'0.2 0.2 0.2 0.2 0.2 0.4 0.4 0.4 0.2 0.2 0.2 0.2'"
      ]
     },
     "execution_count": 9,
     "metadata": {},
     "output_type": "execute_result"
    }
   ],
   "source": [
    "def profile_string(motifs):\n",
    "    if type(motifs) != list:\n",
    "        motifs = motifs.split()\n",
    "    nt_dict = {}\n",
    "    for i in range(0, len(motifs[0])):\n",
    "        for motif in motifs:\n",
    "            if i not in nt_dict:\n",
    "                nt_dict[i] = {\"A\":1, \"C\":1, \"G\":1, \"T\":1}\n",
    "            nt_dict[i][motif[i]] += 1\n",
    "    # nt_dict is a dict with a form of {i: {\"A\":count_A ..., \"T\":count_T}}, in which i is the position of nucleotide in a motif\n",
    "    ntlist = [\"A\", \"C\", \"G\", \"T\"]\n",
    "    probability = \"\"\n",
    "    for nucleotide in ntlist:\n",
    "        for i in range(0, len(nt_dict)):\n",
    "            probability = probability + \" \" + str(nt_dict[i][nucleotide]/sum(nt_dict[i].values()))\n",
    "    prob = probability[1:]\n",
    "    return prob\n",
    "\n",
    "profile_string(\"GGC\")"
   ]
  },
  {
   "cell_type": "code",
   "execution_count": 10,
   "metadata": {},
   "outputs": [
    {
     "data": {
      "text/plain": [
       "{0: {'A': 1, 'C': 1, 'G': 2, 'T': 1},\n",
       " 1: {'A': 1, 'C': 1, 'G': 2, 'T': 1},\n",
       " 2: {'A': 1, 'C': 2, 'G': 1, 'T': 1}}"
      ]
     },
     "execution_count": 10,
     "metadata": {},
     "output_type": "execute_result"
    }
   ],
   "source": [
    "def profile_dict(motifs):\n",
    "    if type(motifs) != list:\n",
    "        motifs = motifs.split()\n",
    "    nt_dict = {}\n",
    "    for i in range(0, len(motifs[0])):\n",
    "        for motif in motifs:\n",
    "            if i not in nt_dict:\n",
    "                nt_dict[i] = {\"A\":1, \"C\":1, \"G\":1, \"T\":1}\n",
    "            nt_dict[i][motif[i]] += 1\n",
    "    # nt_dict is a dict with a form of {i: {\"A\":count_A ..., \"T\":count_T}}, in which i is the position of nucleotide in a motif\n",
    "    return nt_dict\n",
    "profile_dict(\"GGC\")"
   ]
  },
  {
   "cell_type": "code",
   "execution_count": 11,
   "metadata": {},
   "outputs": [],
   "source": [
    "def score(motifs):\n",
    "    nt_dict = profile_dict(motifs)\n",
    "    final_score = 0\n",
    "    for i in range(0, len(nt_dict)):\n",
    "        max_count = max(nt_dict[i].values())\n",
    "        final_score += sum(nt_dict[i].values()) - max_count\n",
    "    return final_score\n",
    "\n",
    "#score(\"TCGGGGGTTTTT CCGGTGACTTTC ACGGGGATTTTC TTGGGGACTTTT AAGGGGACTTCC TTGGGGACTTCC TCGGGGATTCAT TCGGGGATTCCT TAGGGGAACTAC TCGGGTATAACC\")"
   ]
  },
  {
   "cell_type": "code",
   "execution_count": 15,
   "metadata": {},
   "outputs": [],
   "source": [
    "def GreedyMotifSearch(Dna, k, t):\n",
    "    Dna = Dna.split()\n",
    "    BestMotifs = [line[:k] for line in Dna]\n",
    "\n",
    "    Motifs_line1 = [Dna[0][i:i+k] for i in range(0, len(Dna[0])-k+1)]\n",
    "    for kmer in Motifs_line1:\n",
    "        Motifs = [kmer]\n",
    "        for i in range(1, t):\n",
    "            Motifs.append(profile_most_probable(Dna[i], k, profile_string(Motifs)))\n",
    "        if score(Motifs) < score(BestMotifs):\n",
    "            BestMotifs = Motifs\n",
    "    for i in BestMotifs:\n",
    "        print(i, end=\" \")\n",
    "    return BestMotifs"
   ]
  }
 ],
 "metadata": {
  "kernelspec": {
   "display_name": "Python 3",
   "language": "python",
   "name": "python3"
  },
  "language_info": {
   "codemirror_mode": {
    "name": "ipython",
    "version": 3
   },
   "file_extension": ".py",
   "mimetype": "text/x-python",
   "name": "python",
   "nbconvert_exporter": "python",
   "pygments_lexer": "ipython3",
   "version": "3.11.4"
  },
  "orig_nbformat": 4
 },
 "nbformat": 4,
 "nbformat_minor": 2
}
