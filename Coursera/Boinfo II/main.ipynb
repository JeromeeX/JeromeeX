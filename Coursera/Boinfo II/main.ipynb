{
 "cells": [
  {
   "cell_type": "code",
   "execution_count": null,
   "metadata": {},
   "outputs": [],
   "source": [
    "def composition(k, text):\n",
    "    \"\"\"\n",
    "    Assuming k is an integer and text is a string of nucleotides, return the list of all k-mers in text (including repeated k-mers).\n",
    "    >>> composition(5, \"CAATCCAAC\")\n",
    "    ['CAATC', 'AATCC', 'ATCCA', 'TCCAA', 'CCAAC']\n",
    "    \"\"\"\n",
    "    kmers = []\n",
    "    length = len(text)\n",
    "    for i in range(0, length-k+1):\n",
    "        kmers.append(text[i:i+k])\n",
    "    #print(*kmers, sep=\" \")\n",
    "    return kmers"
   ]
  },
  {
   "cell_type": "code",
   "execution_count": null,
   "metadata": {},
   "outputs": [],
   "source": [
    "def PathToGenome(path):\n",
    "    \"\"\"\n",
    "    Assuming the input is a sequence path of n k-mers split with spaces, the consecutive ones of which shares an overlap whose length is k-1;\n",
    "    return an assembled string.\n",
    "    >>> PathToGenome(\"ACCGA CCGAA CGAAG GAAGC AAGCT\")\n",
    "    ACCGAAGCT\n",
    "    \"\"\"\n",
    "    kmers = path.split()\n",
    "    return kmers[0] + ''.join(kmer[-1] for kmer in kmers[1:])"
   ]
  },
  {
   "cell_type": "code",
   "execution_count": null,
   "metadata": {},
   "outputs": [],
   "source": [
    "def Overlap(patterns):\n",
    "    \"\"\"\n",
    "    Assuming the input is a string of k-mers split with spaces, return the overlap graph in the form of an adjacency list\n",
    "    >>> Overlap(\"ATGCG GCATG CATGC AGGCA GGCAT GGCAC\")\n",
    "    {'GCATG': ['CATGC'],\n",
    "    'CATGC': ['ATGCG'],\n",
    "    'AGGCA': ['GGCAT', 'GGCAC'],\n",
    "    'GGCAT': ['GCATG']}\n",
    "    \"\"\"\n",
    "    kmers = patterns.split()\n",
    "    prefix = {kmer: kmer[:-1] for kmer in kmers}\n",
    "    suffix = {kmer: kmer[1:] for kmer in kmers}\n",
    "\n",
    "    adjacency = {kmer: [] for kmer in kmers}\n",
    "    for kmer in kmers:\n",
    "        for key, value in prefix.items():\n",
    "            if suffix[kmer] == value:\n",
    "                adjacency[kmer].append(key)\n",
    "    \n",
    "    # Remove all the keys in adjacency if its value is empty list\n",
    "    adjacency = {key: value for key, value in adjacency.items() if value}\n",
    "    # print('\\n'.join(f'{kmer}: {\" \".join(adj)}' for kmer, adj in adjacency.items()))\n",
    "    return adjacency"
   ]
  },
  {
   "cell_type": "code",
   "execution_count": null,
   "metadata": {},
   "outputs": [],
   "source": [
    "def DeBruijn_text(k, text):\n",
    "    \"\"\"\n",
    "    Assuming k is an integer greater than 0 and text is a string whose length is greater than or equal to k,\n",
    "    the output is an adjacency list where all the identically labelled nodes are glued.\n",
    "    >>> DeBruijn(4, \"AAGATTCTCTAAGA\")\n",
    "    {'AAG': ['AGA', 'AGA'],\n",
    "    'AGA': ['GAT'],\n",
    "    'GAT': ['ATT'],\n",
    "    'ATT': ['TTC'],\n",
    "    'TTC': ['TCT'],\n",
    "    'TCT': ['CTC', 'CTA'],\n",
    "    'CTC': ['TCT'],\n",
    "    'CTA': ['TAA'],\n",
    "    'TAA': ['AAG']}\n",
    "    \"\"\"\n",
    "    length = len(text)\n",
    "    kmers = [text[i:i+k-1] for i in range(0, length-k+2)]\n",
    "    adjacency = {kmer: [] for kmer in kmers}\n",
    "    for i in range(0, len(kmers)-1):\n",
    "        adjacency[kmers[i]].append(kmers[i+1])\n",
    "    \n",
    "    # Remove all the keys in adjacency if its value is empty list\n",
    "    adjacency = {key: value for key, value in adjacency.items() if value}\n",
    "\n",
    "    #print('\\n'.join(f'{kmer}: {\" \".join(adj)}' for kmer, adj in adjacency.items()))\n",
    "    return adjacency"
   ]
  },
  {
   "cell_type": "code",
   "execution_count": 69,
   "metadata": {},
   "outputs": [],
   "source": [
    "def DeBruijn_pattern(patterns):\n",
    "    \"\"\"\n",
    "    Assume the input is a collection of k-mer patterns split with spaces,\n",
    "    the output is an adjacency list of the de Bruijn graph\n",
    "    >>> DeBruijn_pattern(\"GAGG CAGG GGGG GGGA CAGG AGGG GGAG\")\n",
    "\n",
    "    \"\"\"\n",
    "    \n",
    "\n",
    "#DeBruijn_pattern(\"GAGG CAGG GGGG GGGA CAGG AGGG GGAG\")"
   ]
  }
 ],
 "metadata": {
  "kernelspec": {
   "display_name": "Python 3",
   "language": "python",
   "name": "python3"
  },
  "language_info": {
   "codemirror_mode": {
    "name": "ipython",
    "version": 3
   },
   "file_extension": ".py",
   "mimetype": "text/x-python",
   "name": "python",
   "nbconvert_exporter": "python",
   "pygments_lexer": "ipython3",
   "version": "3.11.4"
  }
 },
 "nbformat": 4,
 "nbformat_minor": 2
}
