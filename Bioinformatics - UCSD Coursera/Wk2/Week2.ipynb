{
 "cells": [
  {
   "cell_type": "code",
   "execution_count": 1,
   "metadata": {},
   "outputs": [],
   "source": [
    "def skew(seq):\n",
    "    seq = list(seq)\n",
    "    skew = 0\n",
    "    skewlist = [0]\n",
    "    for i in seq:\n",
    "        if i == \"G\":\n",
    "            skew += 1\n",
    "            skewlist.append(skew)\n",
    "        elif i == \"C\":\n",
    "            skew -= 1\n",
    "            skewlist.append(skew)\n",
    "        else:\n",
    "            skewlist.append(skew)\n",
    "    \n",
    "    # for i in skewlist:\n",
    "        # print(i, end=\" \")\n",
    "    return skew"
   ]
  },
  {
   "cell_type": "code",
   "execution_count": 90,
   "metadata": {},
   "outputs": [
    {
     "name": "stdout",
     "output_type": "stream",
     "text": [
      "0 1 2 3 4 5 6 7 8 9 10 11 12 13 14 15 16 17 18 19 20 21 22 23 24 "
     ]
    },
    {
     "data": {
      "text/plain": [
       "[0,\n",
       " 1,\n",
       " 2,\n",
       " 3,\n",
       " 4,\n",
       " 5,\n",
       " 6,\n",
       " 7,\n",
       " 8,\n",
       " 9,\n",
       " 10,\n",
       " 11,\n",
       " 12,\n",
       " 13,\n",
       " 14,\n",
       " 15,\n",
       " 16,\n",
       " 17,\n",
       " 18,\n",
       " 19,\n",
       " 20,\n",
       " 21,\n",
       " 22,\n",
       " 23,\n",
       " 24]"
      ]
     },
     "execution_count": 90,
     "metadata": {},
     "output_type": "execute_result"
    }
   ],
   "source": [
    "def minskew(seq):\n",
    "    seq = list(seq)\n",
    "    skew = 0\n",
    "    skewlist = [0]\n",
    "    for i in seq:\n",
    "        if i == \"G\":\n",
    "            skew += 1\n",
    "        elif i == \"C\":\n",
    "            skew -= 1\n",
    "        skewlist.append(skew)\n",
    "    min_indices = []\n",
    "    min_value = min(skewlist)\n",
    "    for idx, value in enumerate(skewlist):\n",
    "        if value == min_value:\n",
    "            min_indices.append(idx)\n",
    "    for i in min_indices:\n",
    "        print(i, end=\" \")\n",
    "    return min_indices\n",
    "\n",
    "minskew(\"gatacacttcccgagtaggtactg\")"
   ]
  },
  {
   "cell_type": "code",
   "execution_count": 86,
   "metadata": {},
   "outputs": [
    {
     "data": {
      "text/plain": [
       "34"
      ]
     },
     "execution_count": 86,
     "metadata": {},
     "output_type": "execute_result"
    }
   ],
   "source": [
    "def hammingdistance(seq1, seq2):\n",
    "    seq1 = list(seq1)\n",
    "    seq2 = list(seq2)\n",
    "    hmgdist = 0\n",
    "    for i in range(len(seq1)):\n",
    "        if seq1[i] != seq2[i]:\n",
    "            hmgdist += 1\n",
    "    return hmgdist"
   ]
  },
  {
   "cell_type": "code",
   "execution_count": 91,
   "metadata": {},
   "outputs": [
    {
     "data": {
      "text/plain": [
       "0"
      ]
     },
     "execution_count": 91,
     "metadata": {},
     "output_type": "execute_result"
    }
   ],
   "source": [
    "def ApproximatePatternCount(Text, Pattern, d):\n",
    "    count = 0\n",
    "    Text = list(Text)\n",
    "    for i in range(0, len(Text)-len(Pattern)+1):\n",
    "        Pattern1 = Text[i: i+len(Pattern)]\n",
    "        if hammingdistance(Pattern, Pattern1) <= d:\n",
    "            count += 1\n",
    "    return count\n",
    "\n",
    "ApproximatePatternCount(\"tacgcattacaaagcaca\", \"AA\", 1)"
   ]
  },
  {
   "cell_type": "code",
   "execution_count": 19,
   "metadata": {},
   "outputs": [],
   "source": [
    "def ApproxPatternMatching(pattern, text, d):\n",
    "    kmerList = []\n",
    "    text = list(text)\n",
    "    for i in range(0, len(text)-len(pattern)+1):\n",
    "        kmerList.append(text[i: i+len(pattern)])\n",
    "    \n",
    "    patternList = []\n",
    "    idxList = []\n",
    "    for i in kmerList:\n",
    "        if hammingdistance(pattern, i) <= d:\n",
    "            patternList.append(i)\n",
    "    for i in patternList:\n",
    "        if i in patternList:\n",
    "            idxList.append(kmerList.index(i))\n",
    "    \n",
    "    return idxList"
   ]
  },
  {
   "cell_type": "code",
   "execution_count": 20,
   "metadata": {},
   "outputs": [],
   "source": [
    "def CountHamDistance(text, pattern, d):\n",
    "    kmerList = []\n",
    "    text = list(text)\n",
    "    for i in range(0, len(text)-len(pattern)+1):\n",
    "        kmerList.append(text[i: i+len(pattern)])\n",
    "    \n",
    "    patternList = []\n",
    "    for i in kmerList:\n",
    "        if hammingdistance(i, pattern) <= d:\n",
    "            patternList.append(i)\n",
    "    \n",
    "    return len(patternList)"
   ]
  },
  {
   "cell_type": "code",
   "execution_count": 95,
   "metadata": {},
   "outputs": [
    {
     "data": {
      "text/plain": [
       "True"
      ]
     },
     "execution_count": 95,
     "metadata": {},
     "output_type": "execute_result"
    }
   ],
   "source": [
    "def Suffix(Pattern):\n",
    "    Pattern = list(Pattern)\n",
    "    Pattern.pop(0)\n",
    "    return \"\".join(Pattern)\n",
    "\n",
    "def Neighbors(Pattern, d):\n",
    "    Nucleotides = [\"A\", \"C\", \"T\", \"G\"]\n",
    "    if d == 0:\n",
    "        return Pattern\n",
    "    if len(Pattern) == 1:\n",
    "        return Nucleotides\n",
    "    \n",
    "    Neighborhood = []\n",
    "    SuffixNeighbors = Neighbors(Suffix(Pattern), d)\n",
    "    for i in SuffixNeighbors:\n",
    "        if hammingdistance(Suffix(Pattern), i) < d:\n",
    "            for nt in Nucleotides:\n",
    "                Neighborhood.append(nt + i)\n",
    "        else:\n",
    "            PatternList = list(Pattern)\n",
    "            Neighborhood.append(PatternList[0] + i)\n",
    "    \n",
    "    return Neighborhood\n",
    "\n",
    "def ReverseComplement(Pattern):\n",
    "    Pattern = Pattern[::-1]\n",
    "    Pattern_list = list(Pattern)\n",
    "    for i in range(0, len(Pattern)):\n",
    "        if Pattern_list[i] == \"A\":\n",
    "            Pattern_list[i] = \"T\"\n",
    "        elif Pattern_list[i] == \"T\":\n",
    "            Pattern_list[i] = \"A\"\n",
    "        elif Pattern_list[i] == \"C\":\n",
    "            Pattern_list[i] = \"G\"\n",
    "        elif Pattern_list[i] == \"G\":\n",
    "            Pattern_list[i] = \"C\"\n",
    "    result = \"\"\n",
    "    for i in Pattern_list:\n",
    "        result += i\n",
    "    return result\n",
    "\n",
    "\"ACGT\" in Neighbors(\"ACGT\", 3)\n"
   ]
  },
  {
   "cell_type": "code",
   "execution_count": 32,
   "metadata": {},
   "outputs": [],
   "source": [
    "def FrequentWordsWithMismatches(Text, k, d):\n",
    "    Patterns = []\n",
    "    freqMap = {}\n",
    "    n = len(Text)\n",
    "    \n",
    "    for i in range(0, n-k+1):\n",
    "        Pattern = Text[i:i+k]\n",
    "        neighborhood = Neighbors(Pattern, d)\n",
    "        for j in range(0, len(neighborhood)):\n",
    "            neighbor = neighborhood[j]\n",
    "            if neighbor not in freqMap:\n",
    "                freqMap[neighbor] = 1\n",
    "            else:\n",
    "                freqMap[neighbor] += 1\n",
    "    \n",
    "    countMax = max(freqMap.values())\n",
    "    for i in freqMap:\n",
    "        if freqMap[i] == countMax:\n",
    "            Patterns.append(i)\n",
    "    return Patterns\n",
    "\n",
    "# FrequentWordsWithMismatches(\"TAATGCACGTTCCGATCAATCATAATTAATATCAGCAATCACGTTAATGCATCCGGCACGTTCCGGCACGTCGTTCCGTCCGTCCGCGTGCAGCATCCGTAATGCATAATCGTTCCGTCCGCGTTAATTAATTAATGCAGCATAATTCCGTCCGGCAATCACGTGCATCCGTAATTCCGATCATCCGTAATATCACGTTAATTCCGTCCGTAATTAATCGTTCCGCGTCGTCGTTCCGGCAATCACGTCGTCGTGCAGCAATCACGTTCCGATCATCCGCGTCGTTCCGTAATTAATTCCGTCCGTCCGCGTGCAATCATAATTCCGTAATCGTATCATCCGATCAGCACGTTAATATCAGCATAATTCCGATCA\", 5, 2)"
   ]
  },
  {
   "cell_type": "code",
   "execution_count": 62,
   "metadata": {},
   "outputs": [],
   "source": [
    "def FWMRCP(Text, k, d):    # Frequent Words with Mismatches and Reverse Complements Problem\n",
    "    TextLength = len(Text)\n",
    "    freqMap = {}\n",
    "    kmerList = []\n",
    "\n",
    "    for i in range(0, TextLength-k+1):\n",
    "        Pattern = Text[i: i+k]\n",
    "        RevPattern = ReverseComplement(Pattern)\n",
    "        PatternCount = ApproximatePatternCount(Text, Pattern, d) + ApproximatePatternCount(Text, RevPattern, d)\n",
    "        if Pattern not in freqMap:\n",
    "            freqMap[Pattern] = PatternCount\n",
    "            freqMap[RevPattern] = PatternCount\n",
    "    \n",
    "    maxCount = max(freqMap.values())\n",
    "    for i in freqMap:\n",
    "        if freqMap[i] == maxCount:\n",
    "            kmerList.append(i)\n",
    "\n",
    "    return kmerList"
   ]
  },
  {
   "cell_type": "code",
   "execution_count": 85,
   "metadata": {},
   "outputs": [
    {
     "name": "stdout",
     "output_type": "stream",
     "text": [
      "3764856 3764858 "
     ]
    },
    {
     "data": {
      "text/plain": [
       "[3764856, 3764858]"
      ]
     },
     "execution_count": 85,
     "metadata": {},
     "output_type": "execute_result"
    }
   ],
   "source": [
    "with open(\"Salmonella_enterica.txt\") as genFile:\n",
    "    genome = [line.rstrip() for line in genFile]\n",
    "genome.pop(0)\n",
    "\n",
    "lineargenome = \"\"\n",
    "for i in genome:\n",
    "    lineargenome += i\n",
    "\n",
    "minskew(lineargenome)"
   ]
  }
 ],
 "metadata": {
  "kernelspec": {
   "display_name": "Python 3",
   "language": "python",
   "name": "python3"
  },
  "language_info": {
   "codemirror_mode": {
    "name": "ipython",
    "version": 3
   },
   "file_extension": ".py",
   "mimetype": "text/x-python",
   "name": "python",
   "nbconvert_exporter": "python",
   "pygments_lexer": "ipython3",
   "version": "3.9.6"
  },
  "orig_nbformat": 4
 },
 "nbformat": 4,
 "nbformat_minor": 2
}
