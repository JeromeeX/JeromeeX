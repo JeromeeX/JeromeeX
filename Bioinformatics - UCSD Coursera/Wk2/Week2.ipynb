{
 "cells": [
  {
   "cell_type": "code",
   "execution_count": 3,
   "metadata": {},
   "outputs": [
    {
     "name": "stdout",
     "output_type": "stream",
     "text": [
      "0 1 1 2 1 0 0 -1 -2 -1 -2 -1 -1 -1 -1 "
     ]
    },
    {
     "data": {
      "text/plain": [
       "-1"
      ]
     },
     "execution_count": 3,
     "metadata": {},
     "output_type": "execute_result"
    }
   ],
   "source": [
    "def skew(seq):\n",
    "    seq = list(seq)\n",
    "    skew = 0\n",
    "    skewlist = [0]\n",
    "    for i in seq:\n",
    "        if i == \"G\":\n",
    "            skew += 1\n",
    "            skewlist.append(skew)\n",
    "        elif i == \"C\":\n",
    "            skew -= 1\n",
    "            skewlist.append(skew)\n",
    "        else:\n",
    "            skewlist.append(skew)\n",
    "    \n",
    "    # for i in skewlist:\n",
    "        # print(i, end=\" \")\n",
    "    return skew\n",
    "\n",
    "# skew(\"GAGCCACCGCGATA\")"
   ]
  },
  {
   "cell_type": "code",
   "execution_count": 22,
   "metadata": {},
   "outputs": [
    {
     "name": "stdout",
     "output_type": "stream",
     "text": [
      "7411 "
     ]
    },
    {
     "data": {
      "text/plain": [
       "[7411]"
      ]
     },
     "execution_count": 22,
     "metadata": {},
     "output_type": "execute_result"
    }
   ],
   "source": [
    "def minskew(seq):\n",
    "    seq = list(seq)\n",
    "    skew = 0\n",
    "    skewlist = [0]\n",
    "    for i in seq:\n",
    "        if i == \"G\":\n",
    "            skew += 1\n",
    "        elif i == \"C\":\n",
    "            skew -= 1\n",
    "        skewlist.append(skew)\n",
    "    min_indices = []\n",
    "    min_value = min(skewlist)\n",
    "    for idx, value in enumerate(skewlist):\n",
    "        if value == min_value:\n",
    "            min_indices.append(idx)\n",
    "    for i in min_indices:\n",
    "        print(i, end=\" \")\n",
    "    return min_indices"
   ]
  },
  {
   "cell_type": "code",
   "execution_count": null,
   "metadata": {},
   "outputs": [],
   "source": []
  }
 ],
 "metadata": {
  "kernelspec": {
   "display_name": "Python 3",
   "language": "python",
   "name": "python3"
  },
  "language_info": {
   "codemirror_mode": {
    "name": "ipython",
    "version": 3
   },
   "file_extension": ".py",
   "mimetype": "text/x-python",
   "name": "python",
   "nbconvert_exporter": "python",
   "pygments_lexer": "ipython3",
   "version": "3.9.6"
  },
  "orig_nbformat": 4
 },
 "nbformat": 4,
 "nbformat_minor": 2
}
