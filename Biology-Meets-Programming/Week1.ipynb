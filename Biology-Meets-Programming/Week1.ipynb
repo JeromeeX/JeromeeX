{
 "cells": [
  {
   "cell_type": "code",
   "execution_count": null,
   "metadata": {},
   "outputs": [],
   "source": [
    "def PatternCount(Text, Pattern):\n",
    "    count = 0\n",
    "    for i in range(len(Text)-len(Pattern)+1):\n",
    "        if Text[i:i+len(Pattern)] == Pattern:\n",
    "            count = count+1\n",
    "    return count "
   ]
  }
 ],
 "metadata": {
  "language_info": {
   "name": "python"
  },
  "orig_nbformat": 4
 },
 "nbformat": 4,
 "nbformat_minor": 2
}
